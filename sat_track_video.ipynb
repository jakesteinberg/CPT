{
 "cells": [
  {
   "cell_type": "code",
   "execution_count": 144,
   "metadata": {},
   "outputs": [],
   "source": [
    "# movie of altimeter sampling and adt measurements \n",
    "import numpy as np \n",
    "import pickle\n",
    "import xarray as xr\n",
    "from tqdm.notebook import tqdm\n",
    "import matplotlib.pyplot as plt\n",
    "import matplotlib.gridspec as gridspec\n",
    "import matplotlib.animation as ma\n",
    "\n",
    "x4 = xr.open_dataset('/Users/jakesteinberg/Documents/CPT/bathymetry_gebco_2020/coastlines_global.nc')  "
   ]
  },
  {
   "cell_type": "code",
   "execution_count": 4,
   "metadata": {},
   "outputs": [],
   "source": [
    "# load obs. \n",
    "this_sat = 'j2'\n",
    "load_sat = pickle.load(open('/Users/jakesteinberg/Documents/CPT/altimetry/' + \\\n",
    "                            this_sat + '_' + 'processed_adt_short.p', 'rb'))\n",
    "dist = load_sat['dist']\n",
    "adt = load_sat['adt']\n",
    "lon_record = load_sat['lon_record']\n",
    "lat_record = load_sat['lat_record']\n",
    "track_record = load_sat['track']\n",
    "time_record = load_sat['time']"
   ]
  },
  {
   "cell_type": "code",
   "execution_count": 7,
   "metadata": {},
   "outputs": [],
   "source": [
    "time_start = np.nan*np.ones(len(time_record))\n",
    "for i in range(len(time_record)):\n",
    "    time_start[i] = np.nanmin(time_record[i])"
   ]
  },
  {
   "cell_type": "code",
   "execution_count": 119,
   "metadata": {},
   "outputs": [
    {
     "data": {
      "text/plain": [
       "9.915626425411967"
      ]
     },
     "execution_count": 119,
     "metadata": {},
     "output_type": "execute_result"
    }
   ],
   "source": [
    "(time_record[0][1]-time_record[0][0])/(24*60*60)"
   ]
  },
  {
   "cell_type": "code",
   "execution_count": 123,
   "metadata": {},
   "outputs": [
    {
     "data": {
      "text/plain": [
       "array([   9.91560714,   19.83165218,   29.74743219,   39.66311271,\n",
       "         49.57998147,   59.4956557 ,   69.41243726,   79.32869963,\n",
       "         89.24445913,   99.16005568,  109.07571053,  118.99134507,\n",
       "        128.9069868 ,  138.82264401,  148.73825765,  158.65394354,\n",
       "        168.56954634,  178.48533903,  188.4009668 ,  198.31642809,\n",
       "        208.23169435,  218.14745061,  228.06305011,  237.97744491,\n",
       "        247.89362918,  257.80873118,  267.72397834,  277.63909434,\n",
       "        287.5543032 ,  297.46976894,  307.38520159,  317.30083458,\n",
       "        327.21652699,  337.1321875 ,  347.04778948,  356.96353532,\n",
       "        366.87932196,  376.79511731,  386.71087124,  396.62674877,\n",
       "        406.54234417,  416.45891308,  426.37568453,  436.29183242,\n",
       "        446.20755845,  456.12320245,  466.03889521,  475.95458735,\n",
       "        485.87027444,  495.78584592,  505.70166252,  515.61706373,\n",
       "        525.53221323,  535.44844636,  545.36396143,  555.27969291,\n",
       "        565.19501195,  575.110377  ,  585.02606261,  594.94111833,\n",
       "        604.856428  ,  614.77149687,  624.68649328,  634.60157031,\n",
       "        644.51727393,  654.43283297,  664.34865166,  674.26412464,\n",
       "        684.18012092,  694.09518076,  704.01100066,  713.92667421,\n",
       "        723.84243535,  733.75771436,  743.67328094,  753.58918963,\n",
       "        763.50477456,  773.42111131,  783.33786648,  793.25401848,\n",
       "        803.17052428,  813.0862964 ,  823.00165278,  832.91765373,\n",
       "        842.83325906,  852.74889964,  862.66457231,  872.5800632 ,\n",
       "        882.4958731 ,  892.41148413,  902.32727729,  912.24280135,\n",
       "        922.15842184,  932.07415265,  941.98952521,  951.90507562,\n",
       "        961.82047419,  971.73534851,  981.65057177,  991.56610183,\n",
       "       1001.4808313 , 1011.39608073, 1021.31204369, 1031.22733203,\n",
       "       1041.14293568, 1051.05848474, 1060.97396861, 1070.88978478,\n",
       "       1080.80547795, 1090.72100826, 1100.63689819, 1110.55239169])"
      ]
     },
     "execution_count": 123,
     "metadata": {},
     "output_type": "execute_result"
    }
   ],
   "source": [
    "np.cumsum((time_record[i][1:] - time_record[i][0:-1])/(24*60*60))"
   ]
  },
  {
   "cell_type": "code",
   "execution_count": 115,
   "metadata": {},
   "outputs": [
    {
     "data": {
      "text/plain": [
       "array([0.02716606, 0.05433215, 0.08149782, 0.10866437, 0.13583055,\n",
       "       0.1629961 , 0.19016193, 0.2173289 , 0.24449506, 0.27166118,\n",
       "       0.29882739, 0.32599317, 0.35315936, 0.38032542, 0.40749168,\n",
       "       0.43465793, 0.46182401, 0.48899033, 0.51615633, 0.54332253,\n",
       "       0.57048867, 0.5976545 , 0.62482092, 0.65198724, 0.67915256,\n",
       "       0.70631922, 0.73348541, 0.76065163, 0.78781779, 0.81498317,\n",
       "       0.84215014, 0.86931629, 0.89648205, 0.92364872, 0.95081474,\n",
       "       0.97798233, 1.00514812, 1.03231438, 1.05947922, 1.08664572,\n",
       "       1.1138115 , 1.14097792, 1.16814381, 1.19531031, 1.22247563,\n",
       "       1.24964216, 1.27680899, 1.30397454, 1.33114066, 1.35830686,\n",
       "       1.38547284, 1.41263913, 1.4398053 , 1.46697128, 1.49413747,\n",
       "       1.52130369, 1.54846975, 1.57563582, 1.60280187, 1.62996798,\n",
       "       1.65713318, 1.6843003 , 1.71146669, 1.73863256, 1.76579811,\n",
       "       1.79296517, 1.82013048, 1.84729826, 1.87446479, 1.90163084,\n",
       "       1.92879721, 1.9559633 , 1.98312951, 2.01029627, 2.03746248,\n",
       "       2.06462787, 2.09179324, 2.11895897, 2.14612492, 2.17329143,\n",
       "       2.20045694, 2.22762332, 2.25478946, 2.28195567, 2.30912163,\n",
       "       2.3362877 , 2.3634539 , 2.39062014, 2.41778637, 2.44495259,\n",
       "       2.47211857, 2.49928607, 2.52645107, 2.55361701, 2.58078344,\n",
       "       2.60794967, 2.63511537, 2.66228092, 2.68944818, 2.71661387,\n",
       "       2.74378043, 2.77094504, 2.79811246, 2.82527904, 2.85244427,\n",
       "       2.87960996, 2.9067773 , 2.93394332, 2.96110925, 2.9882757 ,\n",
       "       3.01544175, 3.04260808])"
      ]
     },
     "execution_count": 115,
     "metadata": {},
     "output_type": "execute_result"
    }
   ],
   "source": [
    "((time_record[10][1:] - time_record[10][0])/(60*60*24))/365"
   ]
  },
  {
   "cell_type": "code",
   "execution_count": 116,
   "metadata": {},
   "outputs": [
    {
     "data": {
      "text/plain": [
       "(113, 1772)"
      ]
     },
     "execution_count": 116,
     "metadata": {},
     "output_type": "execute_result"
    }
   ],
   "source": [
    "np.shape(adt[10])"
   ]
  },
  {
   "cell_type": "code",
   "execution_count": 155,
   "metadata": {},
   "outputs": [
    {
     "data": {
      "application/vnd.jupyter.widget-view+json": {
       "model_id": "95762c4fc2d147668d67ff4b4d6288b1",
       "version_major": 2,
       "version_minor": 0
      },
      "text/plain": [
       "HBox(children=(FloatProgress(value=0.0, max=240.0), HTML(value='')))"
      ]
     },
     "metadata": {},
     "output_type": "display_data"
    },
    {
     "name": "stderr",
     "output_type": "stream",
     "text": [
      "/Users/jakesteinberg/anaconda3/envs/cpt/lib/python3.7/site-packages/ipykernel_launcher.py:22: MatplotlibDeprecationWarning: Adding an axes using the same arguments as a previous axes currently reuses the earlier instance.  In a future version, a new instance will always be created and returned.  Meanwhile, this warning can be suppressed, and the future behavior ensured, by passing a unique label to each axes instance.\n",
      "/Users/jakesteinberg/anaconda3/envs/cpt/lib/python3.7/site-packages/ipykernel_launcher.py:23: MatplotlibDeprecationWarning: Adding an axes using the same arguments as a previous axes currently reuses the earlier instance.  In a future version, a new instance will always be created and returned.  Meanwhile, this warning can be suppressed, and the future behavior ensured, by passing a unique label to each axes instance.\n",
      "/Users/jakesteinberg/anaconda3/envs/cpt/lib/python3.7/site-packages/ipykernel_launcher.py:22: MatplotlibDeprecationWarning: Adding an axes using the same arguments as a previous axes currently reuses the earlier instance.  In a future version, a new instance will always be created and returned.  Meanwhile, this warning can be suppressed, and the future behavior ensured, by passing a unique label to each axes instance.\n",
      "/Users/jakesteinberg/anaconda3/envs/cpt/lib/python3.7/site-packages/ipykernel_launcher.py:23: MatplotlibDeprecationWarning: Adding an axes using the same arguments as a previous axes currently reuses the earlier instance.  In a future version, a new instance will always be created and returned.  Meanwhile, this warning can be suppressed, and the future behavior ensured, by passing a unique label to each axes instance.\n",
      "/Users/jakesteinberg/anaconda3/envs/cpt/lib/python3.7/site-packages/ipykernel_launcher.py:22: MatplotlibDeprecationWarning: Adding an axes using the same arguments as a previous axes currently reuses the earlier instance.  In a future version, a new instance will always be created and returned.  Meanwhile, this warning can be suppressed, and the future behavior ensured, by passing a unique label to each axes instance.\n",
      "/Users/jakesteinberg/anaconda3/envs/cpt/lib/python3.7/site-packages/ipykernel_launcher.py:23: MatplotlibDeprecationWarning: Adding an axes using the same arguments as a previous axes currently reuses the earlier instance.  In a future version, a new instance will always be created and returned.  Meanwhile, this warning can be suppressed, and the future behavior ensured, by passing a unique label to each axes instance.\n"
     ]
    },
    {
     "name": "stdout",
     "output_type": "stream",
     "text": [
      "\n"
     ]
    },
    {
     "data": {
      "image/png": "[encoded data removed]",
      "text/plain": [
       "<Figure size 720x720 with 2 Axes>"
      ]
     },
     "metadata": {
      "needs_background": "light"
     },
     "output_type": "display_data"
    }
   ],
   "source": [
    "FFMpegWriter = ma.FFMpegWriter\n",
    "writer = FFMpegWriter(fps=4.5)\n",
    "\n",
    "lon_w = 250\n",
    "lon_e = 360\n",
    "lat_s = 0\n",
    "lat_n = 60\n",
    "\n",
    "time_grid = np.arange(np.int(np.nanmin(time_record[0])), np.int(np.nanmax(time_record[0])), 2*60*60)\n",
    "cmap = plt.get_cmap('seismic')\n",
    "cbpos = [0.93, 0.4, 0.025, 0.2]\n",
    "levs = [-0.000000001, 0.000000001]\n",
    "fig = plt.figure(figsize=(10,10))\n",
    "gs = gridspec.GridSpec(4, 3, figure=fig)\n",
    "ttr = []\n",
    "trip = 0\n",
    "with writer.saving(fig, \"test_j2.mp4\", 300):\n",
    "    for i in tqdm(range(24*10)):\n",
    "        this_time_s = time_grid[i] - (2*60*60)/2\n",
    "        this_time_e = time_grid[i] + (2*60*60)/2\n",
    "        \n",
    "        ax = fig.add_subplot(gs[0:3, :])\n",
    "        ax2 = fig.add_subplot(gs[3, :])\n",
    "        \n",
    "        ax.scatter(x4['lon'].values, x4['lat'].values, color='k', zorder=0, s=0.25)\n",
    "        for j in range(len(track_record)):  # loop over track \n",
    "            time_in0 = np.where((time_record[j] > this_time_s) & (time_record[j] < this_time_e))[0]\n",
    "            # print(time_in0)\n",
    "            if len(time_in0) >= 1:\n",
    "                # print(time_in0)\n",
    "                ttr.append(track_record[j])\n",
    "                ax.scatter(lon_record[j], lat_record[j], color='#B22222', s=4, zorder=2)\n",
    "                # print(((time_record[j][time_in0] - time_record[j][0])/(60*60*24))/365)\n",
    "                \n",
    "                if track_record[j] == 176.0:\n",
    "                    ax.scatter(lon_record[j], lat_record[j], color='#FFD700', s=5, zorder=2)\n",
    "                    trip = 1\n",
    "                    ax2.plot(dist[j], np.squeeze(adt[j][time_in0, :]), color='k', linewidth=1)\n",
    "                    ax2.set_xlim([2750, 6000])\n",
    "                    ax2.set_ylim([-.5, 1.0])\n",
    "                    ax2.set_xlabel('along-track distance [km] (North to South)', fontsize=14)\n",
    "                    ax2.set_ylabel('ADT [m]', fontsize=14)\n",
    "                    ax2.set_title('Along-Track Absolute Dynamic Topography (track 176, 2008)', fontsize=13)\n",
    "            \n",
    "        # print(ttr)\n",
    "        if len(ttr) > 0:\n",
    "            for k in range(len(ttr)):\n",
    "                ax.scatter(lon_record[np.where(track_record == ttr[k])[0][0]], \\\n",
    "                                  lat_record[np.where(track_record == ttr[k])[0][0]], color='#D3D3D3', s=1, zorder=1)\n",
    "            if trip > 0:\n",
    "                inn = np.where(track_record == np.array([176]))[0][0]\n",
    "                ax.scatter(lon_record[inn][np.where((dist[inn] >= 2750) & (dist[inn] <=6000))[0]], \\\n",
    "                           lat_record[inn][np.where((dist[inn] >= 2750) & (dist[inn] <=6000))[0]], \\\n",
    "                           color='#FFD700', s=5, zorder=2)\n",
    "        \n",
    "        # ax = plt.gca()\n",
    "        w = 1 / np.cos(np.deg2rad(np.nanmean([lat_n, lat_s])))\n",
    "        ax.set_aspect(w)\n",
    "        ax.set_xlim([lon_w, lon_e])\n",
    "        ax.set_ylim([lat_s, lat_n])\n",
    "        time_s_s = (time_grid[i] - time_record[0][0])/(60*60*24)\n",
    "        ax.set_title('Jason-2 altimeter tracks, day = ' + str(np.abs(np.round(time_s_s,2))), fontsize=14)\n",
    "        ax.set_xlabel('Longitude [$^{\\circ}$E]', fontsize=10)\n",
    "        ax.set_ylabel('Latitude [$^{\\circ}$N]', fontsize=10)\n",
    "        \n",
    "        # cax = fig.add_axes(cbpos)\n",
    "        # cb = fig.colorbar(axp, cax=cax, orientation='vertical', extend='both')\n",
    "        \n",
    "        writer.grab_frame()\n",
    "        ax.clear()"
   ]
  },
  {
   "cell_type": "code",
   "execution_count": 153,
   "metadata": {},
   "outputs": [
    {
     "data": {
      "text/plain": [
       "175"
      ]
     },
     "execution_count": 153,
     "metadata": {},
     "output_type": "execute_result"
    }
   ],
   "source": [
    "np.where(track_record == np.array([176]))[0][0]"
   ]
  },
  {
   "cell_type": "code",
   "execution_count": 70,
   "metadata": {},
   "outputs": [
    {
     "name": "stdout",
     "output_type": "stream",
     "text": [
      "1241673843\n",
      "44.0\n",
      "1241673928.1292999\n"
     ]
    }
   ],
   "source": [
    "i = 20\n",
    "this_time_s = time_grid[i] - 1500\n",
    "this_time_e = time_grid[i] + 1500\n",
    "print(time_grid[i])\n",
    "for j in range(len(track_record)):  # loop over track \n",
    "    time_in0 = np.where((time_record[j] > this_time_s) & (time_record[j] < this_time_e))[0]\n",
    "    if len(time_in0) > 0:\n",
    "        print(track_record[j])\n",
    "        print(time_record[j][time_in0[0]])"
   ]
  },
  {
   "cell_type": "code",
   "execution_count": 104,
   "metadata": {},
   "outputs": [
    {
     "data": {
      "text/plain": [
       "array([], dtype=float64)"
      ]
     },
     "execution_count": 104,
     "metadata": {},
     "output_type": "execute_result"
    }
   ],
   "source": [
    "((time_record[j][time_in0] - time_record[j][0])/(60*60*24))/365"
   ]
  },
  {
   "cell_type": "code",
   "execution_count": 100,
   "metadata": {},
   "outputs": [
    {
     "data": {
      "text/plain": [
       "array([], dtype=float64)"
      ]
     },
     "execution_count": 100,
     "metadata": {},
     "output_type": "execute_result"
    }
   ],
   "source": [
    "time_record[j][time_in0] - time_record[j][0]"
   ]
  },
  {
   "cell_type": "code",
   "execution_count": 109,
   "metadata": {},
   "outputs": [
    {
     "data": {
      "text/plain": [
       "False"
      ]
     },
     "execution_count": 109,
     "metadata": {},
     "output_type": "execute_result"
    }
   ],
   "source": [
    "len(time_in0) >= 1"
   ]
  },
  {
   "cell_type": "code",
   "execution_count": null,
   "metadata": {},
   "outputs": [],
   "source": []
  }
 ],
 "metadata": {
  "kernelspec": {
   "display_name": "Python 3",
   "language": "python",
   "name": "python3"
  },
  "language_info": {
   "codemirror_mode": {
    "name": "ipython",
    "version": 3
   },
   "file_extension": ".py",
   "mimetype": "text/x-python",
   "name": "python",
   "nbconvert_exporter": "python",
   "pygments_lexer": "ipython3",
   "version": "3.7.6"
  }
 },
 "nbformat": 4,
 "nbformat_minor": 4
}
