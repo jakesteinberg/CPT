{
 "cells": [
  {
   "cell_type": "markdown",
   "metadata": {},
   "source": [
    "-- Take satellite tracks from satellite analysis and interpolate model fields to these points at each 5 day snapshot. Export the resulting SSH and treat at satellite in filtering library\n",
    "\n",
    "Goal: Compare resulting KE estimate to actual model KE \n",
    "\n",
    "Problem: Current model resolution is 1/4 degree so if going to estimate KE from SSH gradients will be extremely coarse \n",
    "-- for now interpolate sqrt(KE) onto satellite tracks representing a speed like that calculated from along-track gradients \n",
    "\n",
    "The code below is run to interpolate and extract model surface fields to then process as we do with altimeter measurements "
   ]
  },
  {
   "cell_type": "code",
   "execution_count": 12,
   "metadata": {},
   "outputs": [],
   "source": [
    "import pickle \n",
    "import numpy as np\n",
    "from scipy.interpolate import griddata \n",
    "import cmocean\n",
    "import matplotlib.pyplot as plt\n",
    "from tqdm.notebook import tqdm\n",
    "import xarray as xr"
   ]
  },
  {
   "cell_type": "code",
   "execution_count": 5,
   "metadata": {},
   "outputs": [],
   "source": [
    "# load dataset\n",
    "x1 = xr.open_dataset('/Users/jakesteinberg/Desktop/neverworld/snapshots_00032505.nc', decode_times=False)\n",
    "# -- load in a few variables \n",
    "lat = x1.yh.values\n",
    "lon = x1.xh.values\n",
    "time = x1.time.values"
   ]
  },
  {
   "cell_type": "code",
   "execution_count": 15,
   "metadata": {},
   "outputs": [],
   "source": [
    "# satellite tracks on model \n",
    "this_sat = 'j2'\n",
    "filter_type = 'sharp'\n",
    "load_sat = pickle.load(open('/Users/jakesteinberg/Documents/CPT/altimetry/' + \\\n",
    "                            this_sat + '_' + filter_type + '_processed.p', 'rb'))\n",
    "lon_sat = load_sat['lon_record']\n",
    "lat_sat = load_sat['lat_record']\n",
    "track_sat = load_sat['track']\n",
    "\n",
    "lon_w = 10\n",
    "lon_e = 45\n",
    "lat_s = -60\n",
    "lat_n = -25\n",
    "Lon, Lat = np.meshgrid(lon, lat)\n",
    "Lon_f = Lon.flatten()\n",
    "Lat_f = Lat.flatten()\n",
    "points = np.concatenate((Lon_f[:, None], Lat_f[:, None]), axis=1)"
   ]
  },
  {
   "cell_type": "code",
   "execution_count": null,
   "metadata": {},
   "outputs": [
    {
     "data": {
      "application/vnd.jupyter.widget-view+json": {
       "model_id": "ce9c5208ce7144de925c5217c1e2381d",
       "version_major": 2,
       "version_minor": 0
      },
      "text/plain": [
       "HBox(children=(FloatProgress(value=0.0, max=98.0), HTML(value='')))"
      ]
     },
     "metadata": {},
     "output_type": "display_data"
    },
    {
     "name": "stderr",
     "output_type": "stream",
     "text": [
      "/Users/jakesteinberg/anaconda3/envs/cpt/lib/python3.7/site-packages/ipykernel_launcher.py:21: RuntimeWarning: invalid value encountered in greater\n",
      "/Users/jakesteinberg/anaconda3/envs/cpt/lib/python3.7/site-packages/ipykernel_launcher.py:21: RuntimeWarning: invalid value encountered in less\n"
     ]
    }
   ],
   "source": [
    "# --- plot and interpolate ssh (or say KE) to satellite lat/lon positions\n",
    "# - say that satellite grid pattern is completed every time step...or every 5 days \n",
    "# - model fields are snapshots\n",
    "lon_sim = []\n",
    "lat_sim = []\n",
    "dist_sim = []\n",
    "e_sim = []\n",
    "track = []\n",
    "time_steps_i = 1  # !!!!!!!!!!!!! np.shape(e)[0]  # each step is 5 days \n",
    "this_var = x1.KE.values[:, 0, :, :]\n",
    "\n",
    "f, ax = plt.subplots(1, 1, figsize=(7,9))\n",
    "levs = np.linspace(7*10**(-8), 7*10**(-1), 100)\n",
    "ax.pcolormesh(x1.xh, x1.yh, x1.KE.values[-1, 0], cmap = cmocean.cm.matter_r, \\\n",
    "              zorder=0, vmin=levs[0], vmax=levs[-1])\n",
    "count = 0\n",
    "for i in tqdm(range(len(lon_sat))):  \n",
    "    # satellite lon,lat coordinates (consider places on coarser grid...now on 10 km grid)\n",
    "    this_lon = (lon_sat[i] - 360) + 60\n",
    "    this_lat = -1.0 * lat_sat[i]\n",
    "    lon_lat_in = np.where((this_lon > lon_w) & (this_lon < lon_e) & (this_lat > lat_s) & (this_lat < lat_n))[0]\n",
    "    if (len(lon_lat_in) > 20):\n",
    "        ax.scatter(this_lon[lon_lat_in], this_lat[lon_lat_in], s=1, color='w', zorder=2)\n",
    "        # lat/lon\n",
    "        lon_sim.append(this_lon[lon_lat_in])\n",
    "        lat_sim.append(lat_sat[i][lon_lat_in])\n",
    "        \n",
    "        dx = np.nan * np.ones(len(lat_sim[count]) - 1)\n",
    "        dy = np.nan * np.ones(len(lat_sim[count]) - 1)\n",
    "        for k in range(1, len(lat_sim[count])):\n",
    "            dx[k - 1] = 1852 * 60 * np.cos(np.deg2rad(lat_sim[count][k])) * (lon_sim[count][k] - lon_sim[count][k - 1])\n",
    "            dy[k - 1] = 1852 * 60 * (lat_sim[count][k] - lat_sim[count][k - 1]) \n",
    "        dist = np.concatenate((np.array([0]), np.sqrt(np.cumsum(dx)**2 + np.cumsum(dy)**2)))\n",
    "        dist_sim.append(dist)\n",
    "        \n",
    "        # variable we want to interpolate \n",
    "        this_e = np.nan * np.ones((np.shape(this_var)[0], len(this_lon[lon_lat_in])))\n",
    "        for j in range(time_steps_i):  # loop over each time step \n",
    "            # values = np.squeeze(e[j, 0, :, :]).flatten()\n",
    "            values = np.squeeze(this_var[j, :, :]).flatten()\n",
    "            this_e[j, :] = griddata(points, values, \\\n",
    "                                    np.concatenate((this_lon[lon_lat_in][:, None], this_lat[lon_lat_in][:, None]), \\\n",
    "                                                   axis=1))\n",
    "        track.append(track_sat[i])\n",
    "        e_sim.append(this_e)\n",
    "        count = count + 1\n",
    "        \n",
    "ax.set_xlim([0, 60])\n",
    "ax.set_ylim([-60, 60])\n",
    "plt.show()"
   ]
  },
  {
   "cell_type": "code",
   "execution_count": 17,
   "metadata": {},
   "outputs": [
    {
     "data": {
      "image/png": "[encoded data removed]",
      "text/plain": [
       "<Figure size 1008x288 with 1 Axes>"
      ]
     },
     "metadata": {
      "needs_background": "light"
     },
     "output_type": "display_data"
    }
   ],
   "source": [
    "test_i = 10\n",
    "f, ax = plt.subplots(1, 1, figsize=(14, 4))\n",
    "for i in range(np.shape(e_sim[test_i])[0]):\n",
    "    ax.plot(dist_sim[test_i]/1000,np.sqrt(e_sim[test_i][i, :]), linewidth=0.6)\n",
    "ax.grid()\n",
    "plt.show()"
   ]
  },
  {
   "cell_type": "code",
   "execution_count": null,
   "metadata": {},
   "outputs": [],
   "source": [
    "save_sim = 0\n",
    "if save_sim:\n",
    "    outputs = {'dist': dist, \\\n",
    "               'ke': e_sim, \\\n",
    "                'time': time, \\\n",
    "                'lon': lon_sim, \\\n",
    "                'lat': lat_sim, \\\n",
    "                'track': track}\n",
    "    pickle.dump(outputs, open('/Users/jakesteinberg/Desktop/neverworld/j2_simulated_ke.p', 'wb'))"
   ]
  }
 ],
 "metadata": {
  "kernelspec": {
   "display_name": "Python 3",
   "language": "python",
   "name": "python3"
  },
  "language_info": {
   "codemirror_mode": {
    "name": "ipython",
    "version": 3
   },
   "file_extension": ".py",
   "mimetype": "text/x-python",
   "name": "python",
   "nbconvert_exporter": "python",
   "pygments_lexer": "ipython3",
   "version": "3.7.6"
  }
 },
 "nbformat": 4,
 "nbformat_minor": 4
}
